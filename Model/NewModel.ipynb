{
 "cells": [
  {
   "cell_type": "code",
   "execution_count": 4,
   "id": "674912e6",
   "metadata": {},
   "outputs": [
    {
     "name": "stderr",
     "output_type": "stream",
     "text": [
      "Batches: 100%|██████████| 3266/3266 [2:06:27<00:00,  2.32s/it]  \n"
     ]
    },
    {
     "name": "stdout",
     "output_type": "stream",
     "text": [
      "              precision    recall  f1-score   support\n",
      "\n",
      "           0       0.63      0.58      0.61     18573\n",
      "           1       0.69      0.73      0.71     23221\n",
      "\n",
      "    accuracy                           0.66     41794\n",
      "   macro avg       0.66      0.66      0.66     41794\n",
      "weighted avg       0.66      0.66      0.66     41794\n",
      "\n"
     ]
    },
    {
     "data": {
      "text/plain": [
       "['sentence_scaler.pkl']"
      ]
     },
     "execution_count": 4,
     "metadata": {},
     "output_type": "execute_result"
    }
   ],
   "source": [
    "import pandas as pd\n",
    "import numpy as np\n",
    "import joblib\n",
    "\n",
    "from sentence_transformers import SentenceTransformer\n",
    "from sklearn.linear_model import LogisticRegression\n",
    "from sklearn.preprocessing import StandardScaler\n",
    "from sklearn.model_selection import train_test_split\n",
    "from sklearn.metrics import classification_report\n",
    "\n",
    "# Load dataset\n",
    "df = pd.read_csv(\"combined_news_dataset.csv\", encoding=\"utf-8\", on_bad_lines='skip')  # Handles bad lines\n",
    "df = df.dropna(subset=[\"content\", \"label\"])  # Remove rows with missing data\n",
    "\n",
    "texts = df[\"content\"].astype(str).tolist()\n",
    "labels = df[\"label\"].astype(int).tolist()\n",
    "\n",
    "# Use SentenceTransformer to get embeddings\n",
    "model = SentenceTransformer(\"all-MiniLM-L6-v2\")  # Lightweight, fast model\n",
    "X = model.encode(texts, show_progress_bar=True, batch_size=64)\n",
    "y = np.array(labels)\n",
    "\n",
    "# Scale the embeddings\n",
    "scaler = StandardScaler()\n",
    "X_scaled = scaler.fit_transform(X)\n",
    "\n",
    "# Train-test split\n",
    "X_train, X_test, y_train, y_test = train_test_split(X_scaled, y, test_size=0.2, random_state=42)\n",
    "\n",
    "# Train logistic regression\n",
    "clf = LogisticRegression(max_iter=1000)\n",
    "clf.fit(X_train, y_train)\n",
    "\n",
    "# Evaluate\n",
    "y_pred = clf.predict(X_test)\n",
    "print(classification_report(y_test, y_pred))\n",
    "\n",
    "# Save artifacts\n",
    "joblib.dump(clf, \"logistic_model.pkl\")\n",
    "joblib.dump(scaler, \"sentence_scaler.pkl\")\n"
   ]
  }
 ],
 "metadata": {
  "kernelspec": {
   "display_name": "Python 3",
   "language": "python",
   "name": "python3"
  },
  "language_info": {
   "codemirror_mode": {
    "name": "ipython",
    "version": 3
   },
   "file_extension": ".py",
   "mimetype": "text/x-python",
   "name": "python",
   "nbconvert_exporter": "python",
   "pygments_lexer": "ipython3",
   "version": "3.13.3"
  }
 },
 "nbformat": 4,
 "nbformat_minor": 5
}
